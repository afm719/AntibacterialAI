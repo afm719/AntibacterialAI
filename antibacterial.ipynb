{
 "cells": [
  {
   "cell_type": "code",
   "execution_count": null,
   "id": "036427eb",
   "metadata": {},
   "outputs": [
    {
     "name": "stdout",
     "output_type": "stream",
     "text": [
      "Requirement already satisfied: chembl_webresource-client in c:\\users\\arahi\\appdata\\local\\programs\\python\\python310\\lib\\site-packages (0.10.9)\n",
      "Requirement already satisfied: urllib3 in c:\\users\\arahi\\appdata\\local\\programs\\python\\python310\\lib\\site-packages (from chembl_webresource-client) (2.2.3)\n",
      "Requirement already satisfied: requests>=2.18.4 in c:\\users\\arahi\\appdata\\local\\programs\\python\\python310\\lib\\site-packages (from chembl_webresource-client) (2.32.3)\n",
      "Requirement already satisfied: requests-cache~=1.2 in c:\\users\\arahi\\appdata\\local\\programs\\python\\python310\\lib\\site-packages (from chembl_webresource-client) (1.2.1)\n",
      "Requirement already satisfied: easydict in c:\\users\\arahi\\appdata\\local\\programs\\python\\python310\\lib\\site-packages (from chembl_webresource-client) (1.13)\n",
      "Requirement already satisfied: attrs>=21.2 in c:\\users\\arahi\\appdata\\local\\programs\\python\\python310\\lib\\site-packages (from requests-cache~=1.2->chembl_webresource-client) (25.3.0)\n",
      "Requirement already satisfied: cattrs>=22.2 in c:\\users\\arahi\\appdata\\local\\programs\\python\\python310\\lib\\site-packages (from requests-cache~=1.2->chembl_webresource-client) (24.1.3)\n",
      "Requirement already satisfied: platformdirs>=2.5 in c:\\users\\arahi\\appdata\\roaming\\python\\python310\\site-packages (from requests-cache~=1.2->chembl_webresource-client) (4.3.6)\n",
      "Requirement already satisfied: url-normalize>=1.4 in c:\\users\\arahi\\appdata\\local\\programs\\python\\python310\\lib\\site-packages (from requests-cache~=1.2->chembl_webresource-client) (2.2.1)\n",
      "Requirement already satisfied: exceptiongroup>=1.1.1 in c:\\users\\arahi\\appdata\\roaming\\python\\python310\\site-packages (from cattrs>=22.2->requests-cache~=1.2->chembl_webresource-client) (1.2.2)\n",
      "Requirement already satisfied: typing-extensions!=4.6.3,>=4.1.0 in c:\\users\\arahi\\appdata\\local\\programs\\python\\python310\\lib\\site-packages (from cattrs>=22.2->requests-cache~=1.2->chembl_webresource-client) (4.12.2)\n",
      "Requirement already satisfied: charset-normalizer<4,>=2 in c:\\users\\arahi\\appdata\\local\\programs\\python\\python310\\lib\\site-packages (from requests>=2.18.4->chembl_webresource-client) (3.4.0)\n",
      "Requirement already satisfied: idna<4,>=2.5 in c:\\users\\arahi\\appdata\\local\\programs\\python\\python310\\lib\\site-packages (from requests>=2.18.4->chembl_webresource-client) (3.10)\n",
      "Requirement already satisfied: certifi>=2017.4.17 in c:\\users\\arahi\\appdata\\local\\programs\\python\\python310\\lib\\site-packages (from requests>=2.18.4->chembl_webresource-client) (2024.8.30)\n",
      "Using target: CHEMBL1809 - Dihydrofolate reductase\n",
      "✅ Guardado como 'antibacterial_data.csv' con 0 moléculas\n"
     ]
    }
   ],
   "source": [
    "# Instala la librería de ChEMBL si no la tienes\n",
    "!pip install chembl_webresource-client"
   ]
  },
  {
   "cell_type": "code",
   "execution_count": 5,
   "id": "d58c3d45",
   "metadata": {},
   "outputs": [
    {
     "name": "stdout",
     "output_type": "stream",
     "text": [
      "CHEMBL1809 - Dihydrofolate reductase\n",
      "CHEMBL1852 - DNA-directed RNA polymerase beta chain\n",
      "CHEMBL2065 - Beta-lactamase TEM\n",
      "CHEMBL1813 - Penicillin-binding protein 1A\n",
      "CHEMBL1826 - DNA gyrase subunit B\n",
      "Total without the filter: 1462\n",
      "                              canonical_smiles molecule_chembl_id relation  \\\n",
      "0  CC1(C)N=C(N)N=C(N)N1c1cccc(C[Se]c2ccccc2)c1        CHEMBL20224        =   \n",
      "1                   COCc1cccc(Cc2cnc(N)nc2N)c1        CHEMBL31462        =   \n",
      "2                    COc1ccc(Cc2cnc(N)nc2N)cc1        CHEMBL19023        =   \n",
      "3             CCCCCCCCOc1cccc(Cc2cnc(N)nc2N)c1        CHEMBL31235        =   \n",
      "4                   Nc1ncc(Cc2cccc(O)c2)c(N)n1        CHEMBL30734        =   \n",
      "\n",
      "  standard_relation standard_type standard_units standard_value          type  \\\n",
      "0                 =            Ki             nM          3.802      Log 1/Ki   \n",
      "1                 =  Log 1/Ki app           None           6.59  Log 1/Ki app   \n",
      "2                 =  Log 1/Ki app           None           6.82  Log 1/Ki app   \n",
      "3                 =  Log 1/Ki app           None           6.25  Log 1/Ki app   \n",
      "4                 =  Log 1/Ki app           None           6.47  Log 1/Ki app   \n",
      "\n",
      "  units value  \n",
      "0  None  8.42  \n",
      "1  None  6.59  \n",
      "2  None  6.82  \n",
      "3  None  6.25  \n",
      "4  None  6.47  \n",
      "✅ Saved: 1405 molecules in 'e_coli_molecules.csv'\n"
     ]
    }
   ],
   "source": [
    "from chembl_webresource_client.new_client import new_client\n",
    "import pandas as pd\n",
    "\n",
    "#With this we are putting a filter for extract only the organism that conteins the bacteria E.Coli\n",
    "target = new_client.target\n",
    "results = target.filter(organism__icontains='Escherichia coli')\n",
    "\n",
    "\n",
    "for r in results[:5]:\n",
    "    print(f\"{r['target_chembl_id']} - {r['pref_name']}\")\n",
    "\n",
    "target_chembl_id = results[0]['target_chembl_id']  \n",
    "\n",
    "# Bioactivity\n",
    "activity = new_client.activity\n",
    "res = activity.filter(target_chembl_id=target_chembl_id).only(\n",
    "    ['canonical_smiles', 'molecule_chembl_id',\n",
    "     'standard_type', 'standard_relation',\n",
    "     'standard_value', 'standard_units'])\n",
    "\n",
    "\n",
    "df = pd.DataFrame(res)\n",
    "\n",
    "print(\"Total without the filter:\", len(df))\n",
    "print(df.head())\n",
    "\n",
    "# Delete \n",
    "df = df.dropna(subset=['canonical_smiles', 'standard_value'])\n",
    "\n",
    "df.to_csv(\"e_coli_molecules.csv\", index=False)\n",
    "print(f\"✅ Saved: {len(df)} molecules in 'e_coli_molecules.csv'\")"
   ]
  }
 ],
 "metadata": {
  "kernelspec": {
   "display_name": "Python 3",
   "language": "python",
   "name": "python3"
  },
  "language_info": {
   "codemirror_mode": {
    "name": "ipython",
    "version": 3
   },
   "file_extension": ".py",
   "mimetype": "text/x-python",
   "name": "python",
   "nbconvert_exporter": "python",
   "pygments_lexer": "ipython3",
   "version": "3.10.10"
  }
 },
 "nbformat": 4,
 "nbformat_minor": 5
}
